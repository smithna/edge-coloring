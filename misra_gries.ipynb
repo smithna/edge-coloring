{
 "cells": [
  {
   "cell_type": "code",
   "execution_count": 279,
   "metadata": {},
   "outputs": [],
   "source": [
    "from neo4j import GraphDatabase\n",
    "import random\n",
    "import pandas as pd\n",
    "from dotenv import load_dotenv\n",
    "import os"
   ]
  },
  {
   "cell_type": "code",
   "execution_count": 280,
   "metadata": {},
   "outputs": [],
   "source": [
    "load_dotenv()\n",
    "\n",
    "uri = os.getenv('NEO4J_URI')\n",
    "user = os.getenv('NEO4J_USER')\n",
    "password = os.getenv('NEO4J_PASSWORD')\n",
    "database = os.getenv('NEO4J_DATABASE')\n",
    "\n",
    "driver = GraphDatabase.driver(uri, auth=(user, password), database=database)"
   ]
  },
  {
   "cell_type": "code",
   "execution_count": 281,
   "metadata": {},
   "outputs": [],
   "source": [
    "def get_colors():\n",
    "    records, _, _ = driver.execute_query(\"\"\"\n",
    "        MATCH (n:Team)--()\n",
    "        WITH n, count(*) AS degree\n",
    "        WITH max(degree) AS maxDegree\n",
    "        RETURN range(1, maxDegree+1) AS colors\n",
    "                         \"\"\")\n",
    "    return records[0]['colors']"
   ]
  },
  {
   "cell_type": "code",
   "execution_count": 282,
   "metadata": {},
   "outputs": [],
   "source": [
    "def get_maximal_fan(x, f1):\n",
    "    records, _, _ = driver.execute_query(\"\"\"\n",
    "    WITH collect{\n",
    "        MATCH (x:Team {name:$x})-[b:PLAYS]-(f)\n",
    "        WHERE b.color IS NOT NULL\n",
    "        RETURN {name:f.name, xRelColor:b.color, incidentColors:COLLECT{ MATCH (f)-[b1:PLAYS]-() WHERE b1.color IS NOT NULL RETURN b1.color}}} AS candidates\n",
    "    RETURN\n",
    "        REDUCE(fan=[{name:$f1, incidentColors: COLLECT{ MATCH (:Team {name:$f1})-[b2:PLAYS]-() WHERE b2.color IS NOT NULL RETURN b2.color}}], i in range(0, size(candidates)-1)| \n",
    "            fan + coalesce([\n",
    "                n in range(0, size(candidates)-1) \n",
    "                WHERE NOT candidates[n]['xRelColor'] IN fan[-1]['incidentColors']\n",
    "                AND NOT candidates[n]['name'] IN [fe in fan | fe.name]\n",
    "                | candidates[n]\n",
    "            ][0], [])\n",
    "        ) AS maxFan, [candidate in candidates | candidate['xRelColor']] AS xIncidentColors\n",
    "                                         \"\"\", \n",
    "                                         {\"x\":x, \"f1\":f1})\n",
    "    record = records[0]\n",
    "    return record['maxFan'],  record['xIncidentColors']"
   ]
  },
  {
   "cell_type": "code",
   "execution_count": 283,
   "metadata": {},
   "outputs": [],
   "source": [
    "def get_fan_candidates(x, f1):\n",
    "    records, _, _ = driver.execute_query(\"\"\"\n",
    "    MATCH (x:Team {name:$x})-[b:PLAYS]-(f)\n",
    "    WHERE b.color IS NOT NULL OR f.name = $f1\n",
    "    RETURN f.name AS name, b.color AS xRelColor, \n",
    "    COLLECT{ MATCH (f)-[b1:PLAYS]-() WHERE b1.color IS NOT NULL RETURN b1.color} AS incidentColors\n",
    "    ORDER BY f.name = $f1 DESC\"\"\", {\"x\":x, \"f1\":f1})\n",
    "    return records\n",
    "    "
   ]
  },
  {
   "cell_type": "code",
   "execution_count": 284,
   "metadata": {},
   "outputs": [],
   "source": [
    "def get_maximal_fan_python(x, f1):\n",
    "    records = get_fan_candidates(x, f1)\n",
    "    x_incident_colors = [rec.get('xRelColor') for rec in records if rec.get('xRelColor')]\n",
    "    fan = [dict(records[0])]\n",
    "    records = records[1:]\n",
    "    while True:\n",
    "        try:\n",
    "            # Find the next value that meets the condition (e.g., even numbers)\n",
    "            next_edge = next(record for record in records if not record['xRelColor'] in fan[-1]['incidentColors'])\n",
    "            \n",
    "            # Remove the value from candidate\n",
    "            records.remove(next_edge)\n",
    "            \n",
    "            # Add the value to fan\n",
    "            fan.append(dict(next_edge))\n",
    "            \n",
    "        except StopIteration:\n",
    "            # Break the loop when no more values meet the condition\n",
    "            break\n",
    "    return fan, x_incident_colors"
   ]
  },
  {
   "cell_type": "code",
   "execution_count": 285,
   "metadata": {},
   "outputs": [],
   "source": [
    "def choose_c_d(max_fan, x_incident_colors, colors):\n",
    "    l_free_colors = [color for color in colors if color not in max_fan[-1]['incidentColors']]\n",
    "    x_free_colors = [color for color in colors if color not in x_incident_colors]\n",
    "    c = random.choice(x_free_colors)\n",
    "    d = random.choice(l_free_colors)\n",
    "    inversion_required = not (d in x_free_colors)\n",
    "    return c, d, inversion_required"
   ]
  },
  {
   "cell_type": "code",
   "execution_count": 286,
   "metadata": {},
   "outputs": [],
   "source": [
    "def invert_c_d_path(x, c, d):\n",
    "    _, summary, _ = driver.execute_query(\"\"\"\n",
    "        MATCH p=(x:Team {name:$x})-[:PLAYS {color:$d}]-()(()-[:PLAYS {color:$c}]-()-[:PLAYS {color:$d}]-())*()-[:PLAYS {color:$c}]-{0,1}()\n",
    "        WITH p ORDER BY length(p) DESC\n",
    "        LIMIT 1\n",
    "        FOREACH(rel in relationships(p) |\n",
    "        SET rel.color = CASE WHEN rel.color = $c THEN $d ELSE $c END)\n",
    "                                         \"\"\",\n",
    "                                         {\"x\": x, \"c\": c, \"d\":d})\n",
    "    return summary.counters"
   ]
  },
  {
   "cell_type": "code",
   "execution_count": 287,
   "metadata": {},
   "outputs": [],
   "source": [
    "def get_rotate_fan(fan, d):\n",
    "    rotate_fan_records, _, _ = driver.execute_query(\"\"\"\n",
    "        UNWIND RANGE(0, size($fan)-1) AS idx\n",
    "        MATCH (g:Team {name:$fan[idx]})\n",
    "        WHERE NOT EXISTS {(g)-[:PLAYS {color:$d}]-()}\n",
    "        WITH idx LIMIT 1\n",
    "        RETURN $fan[..idx + 1] AS rotateFan\n",
    "                                                    \"\"\",\n",
    "                                                    {\"fan\":fan,\n",
    "                                                     \"d\":d})\n",
    "    record = rotate_fan_records[0]\n",
    "    return record['rotateFan']"
   ]
  },
  {
   "cell_type": "code",
   "execution_count": 288,
   "metadata": {},
   "outputs": [],
   "source": [
    "def rotate_and_assign(x, fan, d):\n",
    "    _, summary, _ = driver.execute_query(\"\"\"\n",
    "        MATCH (g:Team {name:$x})\n",
    "        UNWIND $fan AS f\n",
    "        MATCH (g)-[r:PLAYS]-(:Team {name:f})\n",
    "        WITH collect(r) AS rels\n",
    "        OPTIONAL CALL (rels) {\n",
    "        UNWIND range(0, size(rels)-2) AS i\n",
    "        WITH rels[i] AS rel, rels[i+1]['color'] AS color\n",
    "        SET rel.color = color} \n",
    "        WITH rels[-1] AS w\n",
    "        LIMIT 1\n",
    "        SET w.color = $d\n",
    "    \"\"\", {\"x\":x, \"fan\":fan, \"d\":d})\n",
    "    return summary.counters"
   ]
  },
  {
   "cell_type": "code",
   "execution_count": 289,
   "metadata": {},
   "outputs": [],
   "source": [
    "def color_relationship(x, f1):\n",
    "    max_fan, x_incident_colors = get_maximal_fan_python(x, f1)\n",
    "    c, d, inversion_required = choose_c_d(max_fan, x_incident_colors, colors)\n",
    "    if inversion_required:\n",
    "       invert_c_d_path(x, c, d)\n",
    "       rotate_fan = get_rotate_fan([fe['name'] for fe in max_fan], d)    \n",
    "    else:\n",
    "        rotate_fan = [fe['name'] for fe in max_fan]\n",
    "    rotate_and_assign(x, rotate_fan, d)\n"
   ]
  },
  {
   "cell_type": "code",
   "execution_count": 290,
   "metadata": {},
   "outputs": [],
   "source": [
    "def validate_coloring():\n",
    "    records, _, _ = driver.execute_query(\"\"\"\n",
    "        MATCH (g:Team)-[b:PLAYS]-()\n",
    "        WHERE b.color IS NOT NULL\n",
    "        WITH g, b.color AS color, count(*) as colorCount\n",
    "        RETURN max(colorCount) AS maxColorsPerNode\"\"\")\n",
    "    print(f\"max colors per node {records[0]['maxColorsPerNode']}\")\n",
    "    assert records[0]['maxColorsPerNode'] in [None, 1], \"coloring is invalid\""
   ]
  },
  {
   "cell_type": "code",
   "execution_count": 291,
   "metadata": {},
   "outputs": [],
   "source": [
    "colors = get_colors()"
   ]
  },
  {
   "cell_type": "code",
   "execution_count": 292,
   "metadata": {},
   "outputs": [],
   "source": [
    "records, _, _ = driver.execute_query(\"\"\"MATCH (x)-[r:PLAYS]->(f1) WHERE r.color IS NULL RETURN x.name AS x, f1.name AS f1\"\"\")\n",
    "rels = [(record['x'], record['f1']) for record in records]"
   ]
  },
  {
   "cell_type": "code",
   "execution_count": 293,
   "metadata": {},
   "outputs": [],
   "source": [
    "for rel in rels:\n",
    "    color_relationship(*rel)"
   ]
  },
  {
   "cell_type": "code",
   "execution_count": 294,
   "metadata": {},
   "outputs": [
    {
     "name": "stdout",
     "output_type": "stream",
     "text": [
      "max colors per node 1\n"
     ]
    }
   ],
   "source": [
    "validate_coloring()"
   ]
  }
 ],
 "metadata": {
  "kernelspec": {
   "display_name": ".venv",
   "language": "python",
   "name": "python3"
  },
  "language_info": {
   "codemirror_mode": {
    "name": "ipython",
    "version": 3
   },
   "file_extension": ".py",
   "mimetype": "text/x-python",
   "name": "python",
   "nbconvert_exporter": "python",
   "pygments_lexer": "ipython3",
   "version": "3.12.8"
  }
 },
 "nbformat": 4,
 "nbformat_minor": 2
}
