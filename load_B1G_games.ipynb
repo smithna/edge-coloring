{
 "cells": [
  {
   "cell_type": "code",
   "execution_count": 10,
   "metadata": {},
   "outputs": [],
   "source": [
    "from neo4j import GraphDatabase\n",
    "import requests\n",
    "import os\n",
    "from dotenv import load_dotenv\n",
    "import pandas as pd"
   ]
  },
  {
   "cell_type": "markdown",
   "metadata": {},
   "source": [
    "## Download csv file\n",
    "Download from https://fixturedownload.com/results/nfl-2024"
   ]
  },
  {
   "cell_type": "code",
   "execution_count": 11,
   "metadata": {},
   "outputs": [
    {
     "name": "stdout",
     "output_type": "stream",
     "text": [
      "Successfully downloaded and saved the file to ./data/nfl-2024-UTC.csv\n"
     ]
    }
   ],
   "source": [
    "# URL of the CSV file\n",
    "url = \"https://fixturedownload.com/download/nfl-2024-UTC.csv\"\n",
    "\n",
    "# Create the data directory if it doesn't exist\n",
    "if not os.path.exists('./data'):\n",
    "    os.makedirs('./data')\n",
    "\n",
    "# File path where we'll save the CSV\n",
    "file_path = './data/nfl-2024-UTC.csv'\n",
    "\n",
    "try:\n",
    "    # Send GET request to the URL\n",
    "    response = requests.get(url)\n",
    "    \n",
    "    # Raise an exception for bad status codes\n",
    "    response.raise_for_status()\n",
    "    \n",
    "    # Write the content to a file\n",
    "    with open(file_path, 'wb') as f:\n",
    "        f.write(response.content)\n",
    "        \n",
    "    print(f\"Successfully downloaded and saved the file to {file_path}\")\n",
    "    \n",
    "except requests.exceptions.RequestException as e:\n",
    "    print(f\"An error occurred while downloading the file: {e}\")\n",
    "except IOError as e:\n",
    "    print(f\"An error occurred while saving the file: {e}\")"
   ]
  },
  {
   "cell_type": "markdown",
   "metadata": {},
   "source": [
    "## Connect to Neo4j"
   ]
  },
  {
   "cell_type": "code",
   "execution_count": 7,
   "metadata": {},
   "outputs": [],
   "source": [
    "load_dotenv()\n",
    "\n",
    "uri = os.getenv('NEO4J_URI')\n",
    "user = os.getenv('NEO4J_USER')\n",
    "password = os.getenv('NEO4J_PASSWORD')\n",
    "database = os.getenv('NEO4J_DATABASE')"
   ]
  },
  {
   "cell_type": "code",
   "execution_count": 9,
   "metadata": {},
   "outputs": [],
   "source": [
    "driver = GraphDatabase.driver(uri, auth=(user, password), database=database)"
   ]
  },
  {
   "cell_type": "markdown",
   "metadata": {},
   "source": [
    "## Load data to Neo4j"
   ]
  },
  {
   "cell_type": "code",
   "execution_count": 14,
   "metadata": {},
   "outputs": [
    {
     "data": {
      "text/html": [
       "<div>\n",
       "<style scoped>\n",
       "    .dataframe tbody tr th:only-of-type {\n",
       "        vertical-align: middle;\n",
       "    }\n",
       "\n",
       "    .dataframe tbody tr th {\n",
       "        vertical-align: top;\n",
       "    }\n",
       "\n",
       "    .dataframe thead th {\n",
       "        text-align: right;\n",
       "    }\n",
       "</style>\n",
       "<table border=\"1\" class=\"dataframe\">\n",
       "  <thead>\n",
       "    <tr style=\"text-align: right;\">\n",
       "      <th></th>\n",
       "      <th>Match Number</th>\n",
       "      <th>Round Number</th>\n",
       "      <th>Date</th>\n",
       "      <th>Location</th>\n",
       "      <th>Home Team</th>\n",
       "      <th>Away Team</th>\n",
       "      <th>Result</th>\n",
       "    </tr>\n",
       "  </thead>\n",
       "  <tbody>\n",
       "    <tr>\n",
       "      <th>0</th>\n",
       "      <td>16</td>\n",
       "      <td>1</td>\n",
       "      <td>06/09/2024 00:20</td>\n",
       "      <td>GEHA Field at Arrowhead Stadium</td>\n",
       "      <td>Kansas City Chiefs</td>\n",
       "      <td>Baltimore Ravens</td>\n",
       "      <td>27 - 20</td>\n",
       "    </tr>\n",
       "    <tr>\n",
       "      <th>1</th>\n",
       "      <td>15</td>\n",
       "      <td>1</td>\n",
       "      <td>07/09/2024 00:15</td>\n",
       "      <td>Arena Corinthians</td>\n",
       "      <td>Philadelphia Eagles</td>\n",
       "      <td>Green Bay Packers</td>\n",
       "      <td>34 - 29</td>\n",
       "    </tr>\n",
       "    <tr>\n",
       "      <th>2</th>\n",
       "      <td>7</td>\n",
       "      <td>1</td>\n",
       "      <td>08/09/2024 17:00</td>\n",
       "      <td>Mercedes-Benz Stadium</td>\n",
       "      <td>Atlanta Falcons</td>\n",
       "      <td>Pittsburgh Steelers</td>\n",
       "      <td>10 - 18</td>\n",
       "    </tr>\n",
       "    <tr>\n",
       "      <th>3</th>\n",
       "      <td>8</td>\n",
       "      <td>1</td>\n",
       "      <td>08/09/2024 17:00</td>\n",
       "      <td>Highmark Stadium</td>\n",
       "      <td>Buffalo Bills</td>\n",
       "      <td>Arizona Cardinals</td>\n",
       "      <td>34 - 28</td>\n",
       "    </tr>\n",
       "    <tr>\n",
       "      <th>4</th>\n",
       "      <td>9</td>\n",
       "      <td>1</td>\n",
       "      <td>08/09/2024 17:00</td>\n",
       "      <td>Soldier Field</td>\n",
       "      <td>Chicago Bears</td>\n",
       "      <td>Tennessee Titans</td>\n",
       "      <td>24 - 17</td>\n",
       "    </tr>\n",
       "    <tr>\n",
       "      <th>...</th>\n",
       "      <td>...</td>\n",
       "      <td>...</td>\n",
       "      <td>...</td>\n",
       "      <td>...</td>\n",
       "      <td>...</td>\n",
       "      <td>...</td>\n",
       "      <td>...</td>\n",
       "    </tr>\n",
       "    <tr>\n",
       "      <th>280</th>\n",
       "      <td>281</td>\n",
       "      <td>Divisional Round</td>\n",
       "      <td>19/01/2025 20:00</td>\n",
       "      <td>Lincoln Financial Field</td>\n",
       "      <td>Philadelphia Eagles</td>\n",
       "      <td>Los Angeles Rams</td>\n",
       "      <td>28 - 22</td>\n",
       "    </tr>\n",
       "    <tr>\n",
       "      <th>281</th>\n",
       "      <td>282</td>\n",
       "      <td>Divisional Round</td>\n",
       "      <td>19/01/2025 23:30</td>\n",
       "      <td>Highmark Stadium</td>\n",
       "      <td>Buffalo Bills</td>\n",
       "      <td>Baltimore Ravens</td>\n",
       "      <td>27 - 25</td>\n",
       "    </tr>\n",
       "    <tr>\n",
       "      <th>282</th>\n",
       "      <td>283</td>\n",
       "      <td>Conference Champs</td>\n",
       "      <td>26/01/2025 20:00</td>\n",
       "      <td>Lincoln Financial Field</td>\n",
       "      <td>Philadelphia Eagles</td>\n",
       "      <td>Washington Commanders</td>\n",
       "      <td>55 - 23</td>\n",
       "    </tr>\n",
       "    <tr>\n",
       "      <th>283</th>\n",
       "      <td>284</td>\n",
       "      <td>Conference Champs</td>\n",
       "      <td>26/01/2025 23:30</td>\n",
       "      <td>GEHA Field at Arrowhead Stadium</td>\n",
       "      <td>Kansas City Chiefs</td>\n",
       "      <td>Buffalo Bills</td>\n",
       "      <td>32 - 29</td>\n",
       "    </tr>\n",
       "    <tr>\n",
       "      <th>284</th>\n",
       "      <td>285</td>\n",
       "      <td>Super Bowl</td>\n",
       "      <td>09/02/2025 23:30</td>\n",
       "      <td>Caesars Superdome</td>\n",
       "      <td>Philadelphia Eagles</td>\n",
       "      <td>Kansas City Chiefs</td>\n",
       "      <td>40 - 22</td>\n",
       "    </tr>\n",
       "  </tbody>\n",
       "</table>\n",
       "<p>285 rows × 7 columns</p>\n",
       "</div>"
      ],
      "text/plain": [
       "     Match Number       Round Number              Date  \\\n",
       "0              16                  1  06/09/2024 00:20   \n",
       "1              15                  1  07/09/2024 00:15   \n",
       "2               7                  1  08/09/2024 17:00   \n",
       "3               8                  1  08/09/2024 17:00   \n",
       "4               9                  1  08/09/2024 17:00   \n",
       "..            ...                ...               ...   \n",
       "280           281   Divisional Round  19/01/2025 20:00   \n",
       "281           282   Divisional Round  19/01/2025 23:30   \n",
       "282           283  Conference Champs  26/01/2025 20:00   \n",
       "283           284  Conference Champs  26/01/2025 23:30   \n",
       "284           285         Super Bowl  09/02/2025 23:30   \n",
       "\n",
       "                            Location            Home Team  \\\n",
       "0    GEHA Field at Arrowhead Stadium   Kansas City Chiefs   \n",
       "1                  Arena Corinthians  Philadelphia Eagles   \n",
       "2              Mercedes-Benz Stadium      Atlanta Falcons   \n",
       "3                   Highmark Stadium        Buffalo Bills   \n",
       "4                      Soldier Field        Chicago Bears   \n",
       "..                               ...                  ...   \n",
       "280          Lincoln Financial Field  Philadelphia Eagles   \n",
       "281                 Highmark Stadium        Buffalo Bills   \n",
       "282          Lincoln Financial Field  Philadelphia Eagles   \n",
       "283  GEHA Field at Arrowhead Stadium   Kansas City Chiefs   \n",
       "284                Caesars Superdome  Philadelphia Eagles   \n",
       "\n",
       "                 Away Team   Result  \n",
       "0         Baltimore Ravens  27 - 20  \n",
       "1        Green Bay Packers  34 - 29  \n",
       "2      Pittsburgh Steelers  10 - 18  \n",
       "3        Arizona Cardinals  34 - 28  \n",
       "4         Tennessee Titans  24 - 17  \n",
       "..                     ...      ...  \n",
       "280       Los Angeles Rams  28 - 22  \n",
       "281       Baltimore Ravens  27 - 25  \n",
       "282  Washington Commanders  55 - 23  \n",
       "283          Buffalo Bills  32 - 29  \n",
       "284     Kansas City Chiefs  40 - 22  \n",
       "\n",
       "[285 rows x 7 columns]"
      ]
     },
     "execution_count": 14,
     "metadata": {},
     "output_type": "execute_result"
    }
   ],
   "source": [
    "games_df = pd.read_csv('./data/nfl-2024-UTC.csv')\n",
    "games_df"
   ]
  },
  {
   "cell_type": "code",
   "execution_count": 16,
   "metadata": {},
   "outputs": [
    {
     "name": "stdout",
     "output_type": "stream",
     "text": [
      "{'_contains_updates': True, 'labels_added': 32, 'relationships_created': 279, 'nodes_created': 32, 'properties_set': 32}\n"
     ]
    }
   ],
   "source": [
    "load_query = \"\"\"\n",
    "    UNWIND $data AS row\n",
    "    MERGE (h:Team {name:row.`Home Team`})\n",
    "    MERGE (a:Team {name:row.`Away Team`})\n",
    "    MERGE (h)-[:PLAYS]->(a)\n",
    "    \"\"\"\n",
    "\n",
    "result = driver.execute_query(load_query, {\"data\": games_df[['Home Team', 'Away Team']].to_dict(\"records\")})\n",
    "print(result.summary.counters)"
   ]
  },
  {
   "cell_type": "markdown",
   "metadata": {},
   "source": []
  }
 ],
 "metadata": {
  "kernelspec": {
   "display_name": ".venv",
   "language": "python",
   "name": "python3"
  },
  "language_info": {
   "codemirror_mode": {
    "name": "ipython",
    "version": 3
   },
   "file_extension": ".py",
   "mimetype": "text/x-python",
   "name": "python",
   "nbconvert_exporter": "python",
   "pygments_lexer": "ipython3",
   "version": "3.12.8"
  }
 },
 "nbformat": 4,
 "nbformat_minor": 2
}
