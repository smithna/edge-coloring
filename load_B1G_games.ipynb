{
 "cells": [
  {
   "cell_type": "code",
   "execution_count": 43,
   "metadata": {},
   "outputs": [],
   "source": [
    "from neo4j import GraphDatabase\n",
    "import requests\n",
    "import os\n",
    "from dotenv import load_dotenv\n",
    "import pandas as pd"
   ]
  },
  {
   "cell_type": "markdown",
   "metadata": {},
   "source": [
    "## Download 2024 B1G season from wikipedia"
   ]
  },
  {
   "cell_type": "code",
   "execution_count": 45,
   "metadata": {},
   "outputs": [],
   "source": [
    "tables = pd.read_html('https://en.wikipedia.org/wiki/2024_Big_Ten_Conference_football_season')"
   ]
  },
  {
   "cell_type": "code",
   "execution_count": null,
   "metadata": {},
   "outputs": [],
   "source": [
    "#Ignore playoff week where table only has two rows\n",
    "week_tables =  [df for df in tables if (\"Home team\" in df.columns and df.shape[0] > 3)]\n",
    "\n",
    "for week_table in week_tables:\n",
    "    week_table['Home team'] = week_table['Home team'].str.replace(r'No\\.\\s*\\d+\\s+', '', regex=True)\n",
    "    week_table['Visiting team'] = week_table['Visiting team'].str.replace(r'No\\.\\s*\\d+\\s+', '', regex=True)"
   ]
  },
  {
   "cell_type": "code",
   "execution_count": 73,
   "metadata": {},
   "outputs": [],
   "source": [
    "schedule = pd.concat(week_tables)"
   ]
  },
  {
   "cell_type": "code",
   "execution_count": 80,
   "metadata": {},
   "outputs": [],
   "source": [
    "conference_teams = ['Illinois',\n",
    " 'Indiana',\n",
    " 'Iowa',\n",
    " 'Maryland',\n",
    " 'Michigan',\n",
    " 'Michigan State',\n",
    " 'Minnesota',\n",
    " 'Nebraska',\n",
    " 'Northwestern',\n",
    " 'Ohio State',\n",
    " 'Oregon',\n",
    " 'Penn State',\n",
    " 'Purdue',\n",
    " 'Rutgers',\n",
    " 'UCLA',\n",
    " 'USC',\n",
    " 'Washington',\n",
    " 'Wisconsin']\n",
    "conference_schedule = schedule[(schedule['Home team'].isin(conference_teams))&(schedule['Visiting team'].isin(conference_teams))]"
   ]
  },
  {
   "cell_type": "markdown",
   "metadata": {},
   "source": [
    "## Connect to Neo4j"
   ]
  },
  {
   "cell_type": "code",
   "execution_count": 81,
   "metadata": {},
   "outputs": [],
   "source": [
    "load_dotenv()\n",
    "\n",
    "uri = os.getenv('NEO4J_URI')\n",
    "user = os.getenv('NEO4J_USER')\n",
    "password = os.getenv('NEO4J_PASSWORD')\n",
    "database = os.getenv('NEO4J_DATABASE')"
   ]
  },
  {
   "cell_type": "code",
   "execution_count": 82,
   "metadata": {},
   "outputs": [],
   "source": [
    "driver = GraphDatabase.driver(uri, auth=(user, password), database=database)"
   ]
  },
  {
   "cell_type": "markdown",
   "metadata": {},
   "source": [
    "## Load data to Neo4j"
   ]
  },
  {
   "cell_type": "code",
   "execution_count": 85,
   "metadata": {},
   "outputs": [
    {
     "name": "stdout",
     "output_type": "stream",
     "text": [
      "{'_contains_updates': True, 'constraints_added': 1}\n"
     ]
    }
   ],
   "source": [
    "result = driver.execute_query(\"CREATE CONSTRAINT team_key IF NOT EXISTS FOR (t:Team) REQUIRE t.name IS NODE KEY\")\n",
    "print(result.summary.counters)"
   ]
  },
  {
   "cell_type": "code",
   "execution_count": 86,
   "metadata": {},
   "outputs": [
    {
     "name": "stdout",
     "output_type": "stream",
     "text": [
      "{'_contains_updates': True, 'labels_added': 18, 'relationships_created': 81, 'nodes_created': 18, 'properties_set': 18}\n"
     ]
    }
   ],
   "source": [
    "load_query = \"\"\"\n",
    "    UNWIND $data AS row\n",
    "    MERGE (h:Team {name:row.`Home team`})\n",
    "    MERGE (a:Team {name:row.`Visiting team`})\n",
    "    MERGE (h)-[:PLAYS]->(a)\n",
    "    \"\"\"\n",
    "\n",
    "result = driver.execute_query(load_query, {\"data\": conference_schedule[['Home team', 'Visiting team']].to_dict(\"records\")})\n",
    "print(result.summary.counters)"
   ]
  },
  {
   "cell_type": "markdown",
   "metadata": {},
   "source": []
  }
 ],
 "metadata": {
  "kernelspec": {
   "display_name": ".venv",
   "language": "python",
   "name": "python3"
  },
  "language_info": {
   "codemirror_mode": {
    "name": "ipython",
    "version": 3
   },
   "file_extension": ".py",
   "mimetype": "text/x-python",
   "name": "python",
   "nbconvert_exporter": "python",
   "pygments_lexer": "ipython3",
   "version": "3.12.8"
  }
 },
 "nbformat": 4,
 "nbformat_minor": 2
}
